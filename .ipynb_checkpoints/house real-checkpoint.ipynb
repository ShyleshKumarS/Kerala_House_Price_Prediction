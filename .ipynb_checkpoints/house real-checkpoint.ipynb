{
 "cells": [
  {
   "cell_type": "code",
   "execution_count": 1,
   "id": "9df3017a",
   "metadata": {},
   "outputs": [],
   "source": [
    "import pandas as pd\n",
    "import matplotlib.pyplot as plt\n",
    "import seaborn as sns\n",
    "import numpy as np\n",
    "from sklearn.linear_model import LinearRegression\n",
    "from sklearn.preprocessing import OneHotEncoder,StandardScaler\n",
    "from sklearn.model_selection import train_test_split\n",
    "from sklearn.compose import make_column_transformer\n",
    "from sklearn.pipeline import make_pipeline\n",
    "from sklearn.metrics import r2_score"
   ]
  },
  {
   "cell_type": "code",
   "execution_count": 2,
   "id": "5b286bb5",
   "metadata": {},
   "outputs": [
    {
     "data": {
      "text/html": [
       "<div>\n",
       "<style scoped>\n",
       "    .dataframe tbody tr th:only-of-type {\n",
       "        vertical-align: middle;\n",
       "    }\n",
       "\n",
       "    .dataframe tbody tr th {\n",
       "        vertical-align: top;\n",
       "    }\n",
       "\n",
       "    .dataframe thead th {\n",
       "        text-align: right;\n",
       "    }\n",
       "</style>\n",
       "<table border=\"1\" class=\"dataframe\">\n",
       "  <thead>\n",
       "    <tr style=\"text-align: right;\">\n",
       "      <th></th>\n",
       "      <th>location</th>\n",
       "      <th>size</th>\n",
       "      <th>total_sqft</th>\n",
       "      <th>bath</th>\n",
       "      <th>Price</th>\n",
       "    </tr>\n",
       "  </thead>\n",
       "  <tbody>\n",
       "    <tr>\n",
       "      <th>0</th>\n",
       "      <td>Jawahar Nagar</td>\n",
       "      <td>4 BHK</td>\n",
       "      <td>2700</td>\n",
       "      <td>5</td>\n",
       "      <td>40000000</td>\n",
       "    </tr>\n",
       "    <tr>\n",
       "      <th>1</th>\n",
       "      <td>Vanchiyoor</td>\n",
       "      <td>5 BHK</td>\n",
       "      <td>3500</td>\n",
       "      <td>5</td>\n",
       "      <td>27500000</td>\n",
       "    </tr>\n",
       "    <tr>\n",
       "      <th>2</th>\n",
       "      <td>Vanchiyoor</td>\n",
       "      <td>5 BHK</td>\n",
       "      <td>3700</td>\n",
       "      <td>5</td>\n",
       "      <td>27500000</td>\n",
       "    </tr>\n",
       "    <tr>\n",
       "      <th>3</th>\n",
       "      <td>Kowdiar</td>\n",
       "      <td>3 BHK</td>\n",
       "      <td>1650</td>\n",
       "      <td>4</td>\n",
       "      <td>8000000</td>\n",
       "    </tr>\n",
       "    <tr>\n",
       "      <th>4</th>\n",
       "      <td>Pattom</td>\n",
       "      <td>4 BHK</td>\n",
       "      <td>3800</td>\n",
       "      <td>4</td>\n",
       "      <td>32500000</td>\n",
       "    </tr>\n",
       "  </tbody>\n",
       "</table>\n",
       "</div>"
      ],
      "text/plain": [
       "        location    size  total_sqft  bath     Price\n",
       "0  Jawahar Nagar  4 BHK         2700     5  40000000\n",
       "1     Vanchiyoor  5 BHK         3500     5  27500000\n",
       "2     Vanchiyoor  5 BHK         3700     5  27500000\n",
       "3        Kowdiar  3 BHK         1650     4   8000000\n",
       "4         Pattom  4 BHK         3800     4  32500000"
      ]
     },
     "execution_count": 2,
     "metadata": {},
     "output_type": "execute_result"
    }
   ],
   "source": [
    "df = pd.read_csv('Kerala_house_Shylesh.csv')\n",
    "df.head()"
   ]
  },
  {
   "cell_type": "code",
   "execution_count": 3,
   "id": "a12ae79c",
   "metadata": {},
   "outputs": [
    {
     "data": {
      "text/html": [
       "<div>\n",
       "<style scoped>\n",
       "    .dataframe tbody tr th:only-of-type {\n",
       "        vertical-align: middle;\n",
       "    }\n",
       "\n",
       "    .dataframe tbody tr th {\n",
       "        vertical-align: top;\n",
       "    }\n",
       "\n",
       "    .dataframe thead th {\n",
       "        text-align: right;\n",
       "    }\n",
       "</style>\n",
       "<table border=\"1\" class=\"dataframe\">\n",
       "  <thead>\n",
       "    <tr style=\"text-align: right;\">\n",
       "      <th></th>\n",
       "      <th>location</th>\n",
       "      <th>size</th>\n",
       "      <th>total_sqft</th>\n",
       "      <th>bath</th>\n",
       "      <th>Price</th>\n",
       "    </tr>\n",
       "  </thead>\n",
       "  <tbody>\n",
       "    <tr>\n",
       "      <th>1192</th>\n",
       "      <td>Thirumala</td>\n",
       "      <td>5 BHK</td>\n",
       "      <td>2800</td>\n",
       "      <td>5</td>\n",
       "      <td>14500000</td>\n",
       "    </tr>\n",
       "    <tr>\n",
       "      <th>1193</th>\n",
       "      <td>Thirumala</td>\n",
       "      <td>4 BHK</td>\n",
       "      <td>2100</td>\n",
       "      <td>4</td>\n",
       "      <td>8500000</td>\n",
       "    </tr>\n",
       "    <tr>\n",
       "      <th>1194</th>\n",
       "      <td>Vayalilkkada</td>\n",
       "      <td>4 BHK</td>\n",
       "      <td>3300</td>\n",
       "      <td>5</td>\n",
       "      <td>24500000</td>\n",
       "    </tr>\n",
       "    <tr>\n",
       "      <th>1195</th>\n",
       "      <td>Kariavattom</td>\n",
       "      <td>5 BHK</td>\n",
       "      <td>3795</td>\n",
       "      <td>5</td>\n",
       "      <td>21000000</td>\n",
       "    </tr>\n",
       "    <tr>\n",
       "      <th>1196</th>\n",
       "      <td>Kazhakoottam</td>\n",
       "      <td>3 BHK</td>\n",
       "      <td>1500</td>\n",
       "      <td>3</td>\n",
       "      <td>6900000</td>\n",
       "    </tr>\n",
       "  </tbody>\n",
       "</table>\n",
       "</div>"
      ],
      "text/plain": [
       "          location    size  total_sqft  bath     Price\n",
       "1192     Thirumala  5 BHK         2800     5  14500000\n",
       "1193     Thirumala  4 BHK         2100     4   8500000\n",
       "1194  Vayalilkkada  4 BHK         3300     5  24500000\n",
       "1195   Kariavattom  5 BHK         3795     5  21000000\n",
       "1196  Kazhakoottam  3 BHK         1500     3   6900000"
      ]
     },
     "execution_count": 3,
     "metadata": {},
     "output_type": "execute_result"
    }
   ],
   "source": [
    "df.tail()"
   ]
  },
  {
   "cell_type": "code",
   "execution_count": 4,
   "id": "e999351f",
   "metadata": {},
   "outputs": [],
   "source": [
    "df1=df['location'].value_counts()\n",
    "df1\n",
    "df1.to_csv(\"count1.csv\")"
   ]
  },
  {
   "cell_type": "code",
   "execution_count": 5,
   "id": "001fabad",
   "metadata": {},
   "outputs": [
    {
     "data": {
      "text/plain": [
       "\"df1 = pd.read_csv('Count.csv')\\n# selecting rows based on condition \\nrslt_df = df1[df1['Count'] < 10] \\n    \\nprint('\\nResult dataframe :\\n', rslt_df['location'])\\n\""
      ]
     },
     "execution_count": 5,
     "metadata": {},
     "output_type": "execute_result"
    }
   ],
   "source": [
    "'''df1 = pd.read_csv('Count.csv')\n",
    "# selecting rows based on condition \n",
    "rslt_df = df1[df1['Count'] < 10] \n",
    "    \n",
    "print('\\nResult dataframe :\\n', rslt_df['location'])\n",
    "'''"
   ]
  },
  {
   "cell_type": "code",
   "execution_count": null,
   "id": "6dc321ae",
   "metadata": {},
   "outputs": [],
   "source": []
  },
  {
   "cell_type": "code",
   "execution_count": 6,
   "id": "4d3a4689",
   "metadata": {},
   "outputs": [
    {
     "data": {
      "text/plain": [
       "(1197, 5)"
      ]
     },
     "execution_count": 6,
     "metadata": {},
     "output_type": "execute_result"
    }
   ],
   "source": [
    "df.shape"
   ]
  },
  {
   "cell_type": "code",
   "execution_count": 7,
   "id": "69418898",
   "metadata": {},
   "outputs": [
    {
     "name": "stdout",
     "output_type": "stream",
     "text": [
      "<class 'pandas.core.frame.DataFrame'>\n",
      "RangeIndex: 1197 entries, 0 to 1196\n",
      "Data columns (total 5 columns):\n",
      " #   Column      Non-Null Count  Dtype \n",
      "---  ------      --------------  ----- \n",
      " 0   location    1197 non-null   object\n",
      " 1   size        1197 non-null   object\n",
      " 2   total_sqft  1197 non-null   int64 \n",
      " 3   bath        1197 non-null   int64 \n",
      " 4   Price       1197 non-null   int64 \n",
      "dtypes: int64(3), object(2)\n",
      "memory usage: 46.9+ KB\n"
     ]
    }
   ],
   "source": [
    "df.info()"
   ]
  },
  {
   "cell_type": "code",
   "execution_count": 8,
   "id": "359bc061",
   "metadata": {},
   "outputs": [],
   "source": [
    "#Cleaning "
   ]
  },
  {
   "cell_type": "code",
   "execution_count": 9,
   "id": "e93ff9d3",
   "metadata": {},
   "outputs": [],
   "source": [
    "backup=df.copy()"
   ]
  },
  {
   "cell_type": "code",
   "execution_count": 10,
   "id": "154941e4",
   "metadata": {},
   "outputs": [
    {
     "data": {
      "text/plain": [
       "location      0\n",
       "size          0\n",
       "total_sqft    0\n",
       "bath          0\n",
       "Price         0\n",
       "dtype: int64"
      ]
     },
     "execution_count": 10,
     "metadata": {},
     "output_type": "execute_result"
    }
   ],
   "source": [
    "df.isnull().sum()"
   ]
  },
  {
   "cell_type": "code",
   "execution_count": 11,
   "id": "3b97053a",
   "metadata": {},
   "outputs": [
    {
     "name": "stdout",
     "output_type": "stream",
     "text": [
      "<class 'pandas.core.frame.DataFrame'>\n",
      "RangeIndex: 1197 entries, 0 to 1196\n",
      "Data columns (total 5 columns):\n",
      " #   Column      Non-Null Count  Dtype \n",
      "---  ------      --------------  ----- \n",
      " 0   location    1197 non-null   object\n",
      " 1   size        1197 non-null   object\n",
      " 2   total_sqft  1197 non-null   int64 \n",
      " 3   bath        1197 non-null   int64 \n",
      " 4   Price       1197 non-null   int64 \n",
      "dtypes: int64(3), object(2)\n",
      "memory usage: 46.9+ KB\n"
     ]
    }
   ],
   "source": [
    "df.info()"
   ]
  },
  {
   "cell_type": "code",
   "execution_count": 12,
   "id": "1d46ccb4",
   "metadata": {},
   "outputs": [
    {
     "name": "stdout",
     "output_type": "stream",
     "text": [
      "Kowdiar            91\n",
      "Pattom             86\n",
      "Thirumala          82\n",
      "Kesavadasapuram    45\n",
      "Karamana           34\n",
      "                   ..\n",
      "Sasthamangalam      1\n",
      "Attingal            1\n",
      "Ptp nagar           1\n",
      "Mukkola             1\n",
      "Kudappanakunnu      1\n",
      "Name: location, Length: 165, dtype: int64\n",
      "4 BHK     351\n",
      "3 BHK     295\n",
      "5 BHK     182\n",
      "2 BHK     119\n",
      "3 BHK     108\n",
      "4 BHK      75\n",
      "2 BHK      23\n",
      "5 BHK      23\n",
      "1 BHK      10\n",
      "6 BHK       5\n",
      "7 BHK       3\n",
      "8 BHK       2\n",
      "1 BHK       1\n",
      "Name: size, dtype: int64\n",
      "2000    62\n",
      "2500    58\n",
      "3500    53\n",
      "1500    52\n",
      "1800    51\n",
      "        ..\n",
      "4635     1\n",
      "6120     1\n",
      "3438     1\n",
      "5946     1\n",
      "1050     1\n",
      "Name: total_sqft, Length: 215, dtype: int64\n",
      "3    391\n",
      "4    354\n",
      "5    216\n",
      "2    148\n",
      "1     54\n",
      "0     27\n",
      "6      5\n",
      "7      1\n",
      "8      1\n",
      "Name: bath, dtype: int64\n",
      "7500000    48\n",
      "7000000    46\n",
      "9500000    41\n",
      "8500000    38\n",
      "6500000    29\n",
      "           ..\n",
      "450000      1\n",
      "4430000     1\n",
      "6350000     1\n",
      "4350000     1\n",
      "8400000     1\n",
      "Name: Price, Length: 161, dtype: int64\n"
     ]
    }
   ],
   "source": [
    "for column in df.columns:\n",
    "     print(df[column].value_counts())"
   ]
  },
  {
   "cell_type": "code",
   "execution_count": 13,
   "id": "1e8f092e",
   "metadata": {},
   "outputs": [
    {
     "data": {
      "text/html": [
       "<div>\n",
       "<style scoped>\n",
       "    .dataframe tbody tr th:only-of-type {\n",
       "        vertical-align: middle;\n",
       "    }\n",
       "\n",
       "    .dataframe tbody tr th {\n",
       "        vertical-align: top;\n",
       "    }\n",
       "\n",
       "    .dataframe thead th {\n",
       "        text-align: right;\n",
       "    }\n",
       "</style>\n",
       "<table border=\"1\" class=\"dataframe\">\n",
       "  <thead>\n",
       "    <tr style=\"text-align: right;\">\n",
       "      <th></th>\n",
       "      <th>total_sqft</th>\n",
       "      <th>bath</th>\n",
       "      <th>Price</th>\n",
       "    </tr>\n",
       "  </thead>\n",
       "  <tbody>\n",
       "    <tr>\n",
       "      <th>count</th>\n",
       "      <td>1197.000000</td>\n",
       "      <td>1197.000000</td>\n",
       "      <td>1.197000e+03</td>\n",
       "    </tr>\n",
       "    <tr>\n",
       "      <th>mean</th>\n",
       "      <td>2523.011696</td>\n",
       "      <td>3.395155</td>\n",
       "      <td>1.310208e+07</td>\n",
       "    </tr>\n",
       "    <tr>\n",
       "      <th>std</th>\n",
       "      <td>2163.581452</td>\n",
       "      <td>1.200645</td>\n",
       "      <td>2.283695e+07</td>\n",
       "    </tr>\n",
       "    <tr>\n",
       "      <th>min</th>\n",
       "      <td>0.000000</td>\n",
       "      <td>0.000000</td>\n",
       "      <td>1.400000e+05</td>\n",
       "    </tr>\n",
       "    <tr>\n",
       "      <th>25%</th>\n",
       "      <td>1500.000000</td>\n",
       "      <td>3.000000</td>\n",
       "      <td>6.000000e+06</td>\n",
       "    </tr>\n",
       "    <tr>\n",
       "      <th>50%</th>\n",
       "      <td>2000.000000</td>\n",
       "      <td>3.000000</td>\n",
       "      <td>8.300000e+06</td>\n",
       "    </tr>\n",
       "    <tr>\n",
       "      <th>75%</th>\n",
       "      <td>3000.000000</td>\n",
       "      <td>4.000000</td>\n",
       "      <td>1.500000e+07</td>\n",
       "    </tr>\n",
       "    <tr>\n",
       "      <th>max</th>\n",
       "      <td>35000.000000</td>\n",
       "      <td>8.000000</td>\n",
       "      <td>4.430000e+08</td>\n",
       "    </tr>\n",
       "  </tbody>\n",
       "</table>\n",
       "</div>"
      ],
      "text/plain": [
       "         total_sqft         bath         Price\n",
       "count   1197.000000  1197.000000  1.197000e+03\n",
       "mean    2523.011696     3.395155  1.310208e+07\n",
       "std     2163.581452     1.200645  2.283695e+07\n",
       "min        0.000000     0.000000  1.400000e+05\n",
       "25%     1500.000000     3.000000  6.000000e+06\n",
       "50%     2000.000000     3.000000  8.300000e+06\n",
       "75%     3000.000000     4.000000  1.500000e+07\n",
       "max    35000.000000     8.000000  4.430000e+08"
      ]
     },
     "execution_count": 13,
     "metadata": {},
     "output_type": "execute_result"
    }
   ],
   "source": [
    "df.describe()"
   ]
  },
  {
   "cell_type": "code",
   "execution_count": 14,
   "id": "623f068f",
   "metadata": {},
   "outputs": [
    {
     "data": {
      "text/plain": [
       "Kowdiar            91\n",
       "Pattom             86\n",
       "Thirumala          82\n",
       "Kesavadasapuram    45\n",
       "Karamana           34\n",
       "                   ..\n",
       "Sasthamangalam      1\n",
       "Attingal            1\n",
       "Ptp nagar           1\n",
       "Mukkola             1\n",
       "Kudappanakunnu      1\n",
       "Name: location, Length: 165, dtype: int64"
      ]
     },
     "execution_count": 14,
     "metadata": {},
     "output_type": "execute_result"
    }
   ],
   "source": [
    "df['location'].value_counts()"
   ]
  },
  {
   "cell_type": "code",
   "execution_count": 15,
   "id": "7e3748ef",
   "metadata": {},
   "outputs": [
    {
     "data": {
      "text/plain": [
       "4 BHK     351\n",
       "3 BHK     295\n",
       "5 BHK     182\n",
       "2 BHK     119\n",
       "3 BHK     108\n",
       "4 BHK      75\n",
       "2 BHK      23\n",
       "5 BHK      23\n",
       "1 BHK      10\n",
       "6 BHK       5\n",
       "7 BHK       3\n",
       "8 BHK       2\n",
       "1 BHK       1\n",
       "Name: size, dtype: int64"
      ]
     },
     "execution_count": 15,
     "metadata": {},
     "output_type": "execute_result"
    }
   ],
   "source": [
    "df['size'].value_counts()"
   ]
  },
  {
   "cell_type": "code",
   "execution_count": 16,
   "id": "db879428",
   "metadata": {},
   "outputs": [
    {
     "name": "stdout",
     "output_type": "stream",
     "text": [
      "<class 'pandas.core.frame.DataFrame'>\n",
      "RangeIndex: 1197 entries, 0 to 1196\n",
      "Data columns (total 5 columns):\n",
      " #   Column      Non-Null Count  Dtype \n",
      "---  ------      --------------  ----- \n",
      " 0   location    1197 non-null   object\n",
      " 1   size        1197 non-null   object\n",
      " 2   total_sqft  1197 non-null   int64 \n",
      " 3   bath        1197 non-null   int64 \n",
      " 4   Price       1197 non-null   int64 \n",
      "dtypes: int64(3), object(2)\n",
      "memory usage: 46.9+ KB\n"
     ]
    }
   ],
   "source": [
    "df.info()"
   ]
  },
  {
   "cell_type": "code",
   "execution_count": 17,
   "id": "5961c437",
   "metadata": {},
   "outputs": [],
   "source": [
    "df['Price']=df['Price'].astype(str)"
   ]
  },
  {
   "cell_type": "code",
   "execution_count": 18,
   "id": "b9489039",
   "metadata": {},
   "outputs": [],
   "source": [
    "df=df[df['Price'].str.isnumeric()]"
   ]
  },
  {
   "cell_type": "code",
   "execution_count": 19,
   "id": "266dcc7e",
   "metadata": {},
   "outputs": [],
   "source": [
    "df['Price']=df['Price'].str.replace(',','').astype(float)"
   ]
  },
  {
   "cell_type": "code",
   "execution_count": 20,
   "id": "69a6b05f",
   "metadata": {},
   "outputs": [
    {
     "name": "stdout",
     "output_type": "stream",
     "text": [
      "<class 'pandas.core.frame.DataFrame'>\n",
      "Int64Index: 1197 entries, 0 to 1196\n",
      "Data columns (total 5 columns):\n",
      " #   Column      Non-Null Count  Dtype  \n",
      "---  ------      --------------  -----  \n",
      " 0   location    1197 non-null   object \n",
      " 1   size        1197 non-null   object \n",
      " 2   total_sqft  1197 non-null   int64  \n",
      " 3   bath        1197 non-null   int64  \n",
      " 4   Price       1197 non-null   float64\n",
      "dtypes: float64(1), int64(2), object(2)\n",
      "memory usage: 56.1+ KB\n"
     ]
    }
   ],
   "source": [
    "df.info()"
   ]
  },
  {
   "cell_type": "code",
   "execution_count": 21,
   "id": "ec7324fd",
   "metadata": {},
   "outputs": [],
   "source": [
    "df['bhk']=df['size'].str.split().str.get(0).astype(int)"
   ]
  },
  {
   "cell_type": "code",
   "execution_count": 22,
   "id": "0460f1df",
   "metadata": {},
   "outputs": [
    {
     "data": {
      "text/html": [
       "<div>\n",
       "<style scoped>\n",
       "    .dataframe tbody tr th:only-of-type {\n",
       "        vertical-align: middle;\n",
       "    }\n",
       "\n",
       "    .dataframe tbody tr th {\n",
       "        vertical-align: top;\n",
       "    }\n",
       "\n",
       "    .dataframe thead th {\n",
       "        text-align: right;\n",
       "    }\n",
       "</style>\n",
       "<table border=\"1\" class=\"dataframe\">\n",
       "  <thead>\n",
       "    <tr style=\"text-align: right;\">\n",
       "      <th></th>\n",
       "      <th>total_sqft</th>\n",
       "      <th>bath</th>\n",
       "      <th>Price</th>\n",
       "      <th>bhk</th>\n",
       "    </tr>\n",
       "  </thead>\n",
       "  <tbody>\n",
       "    <tr>\n",
       "      <th>count</th>\n",
       "      <td>1197.000000</td>\n",
       "      <td>1197.000000</td>\n",
       "      <td>1.197000e+03</td>\n",
       "      <td>1197.000000</td>\n",
       "    </tr>\n",
       "    <tr>\n",
       "      <th>mean</th>\n",
       "      <td>2523.011696</td>\n",
       "      <td>3.395155</td>\n",
       "      <td>1.310208e+07</td>\n",
       "      <td>3.592314</td>\n",
       "    </tr>\n",
       "    <tr>\n",
       "      <th>std</th>\n",
       "      <td>2163.581452</td>\n",
       "      <td>1.200645</td>\n",
       "      <td>2.283695e+07</td>\n",
       "      <td>0.982731</td>\n",
       "    </tr>\n",
       "    <tr>\n",
       "      <th>min</th>\n",
       "      <td>0.000000</td>\n",
       "      <td>0.000000</td>\n",
       "      <td>1.400000e+05</td>\n",
       "      <td>1.000000</td>\n",
       "    </tr>\n",
       "    <tr>\n",
       "      <th>25%</th>\n",
       "      <td>1500.000000</td>\n",
       "      <td>3.000000</td>\n",
       "      <td>6.000000e+06</td>\n",
       "      <td>3.000000</td>\n",
       "    </tr>\n",
       "    <tr>\n",
       "      <th>50%</th>\n",
       "      <td>2000.000000</td>\n",
       "      <td>3.000000</td>\n",
       "      <td>8.300000e+06</td>\n",
       "      <td>4.000000</td>\n",
       "    </tr>\n",
       "    <tr>\n",
       "      <th>75%</th>\n",
       "      <td>3000.000000</td>\n",
       "      <td>4.000000</td>\n",
       "      <td>1.500000e+07</td>\n",
       "      <td>4.000000</td>\n",
       "    </tr>\n",
       "    <tr>\n",
       "      <th>max</th>\n",
       "      <td>35000.000000</td>\n",
       "      <td>8.000000</td>\n",
       "      <td>4.430000e+08</td>\n",
       "      <td>8.000000</td>\n",
       "    </tr>\n",
       "  </tbody>\n",
       "</table>\n",
       "</div>"
      ],
      "text/plain": [
       "         total_sqft         bath         Price          bhk\n",
       "count   1197.000000  1197.000000  1.197000e+03  1197.000000\n",
       "mean    2523.011696     3.395155  1.310208e+07     3.592314\n",
       "std     2163.581452     1.200645  2.283695e+07     0.982731\n",
       "min        0.000000     0.000000  1.400000e+05     1.000000\n",
       "25%     1500.000000     3.000000  6.000000e+06     3.000000\n",
       "50%     2000.000000     3.000000  8.300000e+06     4.000000\n",
       "75%     3000.000000     4.000000  1.500000e+07     4.000000\n",
       "max    35000.000000     8.000000  4.430000e+08     8.000000"
      ]
     },
     "execution_count": 22,
     "metadata": {},
     "output_type": "execute_result"
    }
   ],
   "source": [
    "df.describe()"
   ]
  },
  {
   "cell_type": "code",
   "execution_count": 23,
   "id": "6bb2e4ad",
   "metadata": {},
   "outputs": [
    {
     "data": {
      "text/html": [
       "<div>\n",
       "<style scoped>\n",
       "    .dataframe tbody tr th:only-of-type {\n",
       "        vertical-align: middle;\n",
       "    }\n",
       "\n",
       "    .dataframe tbody tr th {\n",
       "        vertical-align: top;\n",
       "    }\n",
       "\n",
       "    .dataframe thead th {\n",
       "        text-align: right;\n",
       "    }\n",
       "</style>\n",
       "<table border=\"1\" class=\"dataframe\">\n",
       "  <thead>\n",
       "    <tr style=\"text-align: right;\">\n",
       "      <th></th>\n",
       "      <th>location</th>\n",
       "      <th>size</th>\n",
       "      <th>total_sqft</th>\n",
       "      <th>bath</th>\n",
       "      <th>Price</th>\n",
       "      <th>bhk</th>\n",
       "    </tr>\n",
       "  </thead>\n",
       "  <tbody>\n",
       "    <tr>\n",
       "      <th>0</th>\n",
       "      <td>Jawahar Nagar</td>\n",
       "      <td>4 BHK</td>\n",
       "      <td>2700</td>\n",
       "      <td>5</td>\n",
       "      <td>40000000.0</td>\n",
       "      <td>4</td>\n",
       "    </tr>\n",
       "    <tr>\n",
       "      <th>1</th>\n",
       "      <td>Vanchiyoor</td>\n",
       "      <td>5 BHK</td>\n",
       "      <td>3500</td>\n",
       "      <td>5</td>\n",
       "      <td>27500000.0</td>\n",
       "      <td>5</td>\n",
       "    </tr>\n",
       "    <tr>\n",
       "      <th>2</th>\n",
       "      <td>Vanchiyoor</td>\n",
       "      <td>5 BHK</td>\n",
       "      <td>3700</td>\n",
       "      <td>5</td>\n",
       "      <td>27500000.0</td>\n",
       "      <td>5</td>\n",
       "    </tr>\n",
       "    <tr>\n",
       "      <th>3</th>\n",
       "      <td>Kowdiar</td>\n",
       "      <td>3 BHK</td>\n",
       "      <td>1650</td>\n",
       "      <td>4</td>\n",
       "      <td>8000000.0</td>\n",
       "      <td>3</td>\n",
       "    </tr>\n",
       "    <tr>\n",
       "      <th>4</th>\n",
       "      <td>Pattom</td>\n",
       "      <td>4 BHK</td>\n",
       "      <td>3800</td>\n",
       "      <td>4</td>\n",
       "      <td>32500000.0</td>\n",
       "      <td>4</td>\n",
       "    </tr>\n",
       "    <tr>\n",
       "      <th>...</th>\n",
       "      <td>...</td>\n",
       "      <td>...</td>\n",
       "      <td>...</td>\n",
       "      <td>...</td>\n",
       "      <td>...</td>\n",
       "      <td>...</td>\n",
       "    </tr>\n",
       "    <tr>\n",
       "      <th>1192</th>\n",
       "      <td>Thirumala</td>\n",
       "      <td>5 BHK</td>\n",
       "      <td>2800</td>\n",
       "      <td>5</td>\n",
       "      <td>14500000.0</td>\n",
       "      <td>5</td>\n",
       "    </tr>\n",
       "    <tr>\n",
       "      <th>1193</th>\n",
       "      <td>Thirumala</td>\n",
       "      <td>4 BHK</td>\n",
       "      <td>2100</td>\n",
       "      <td>4</td>\n",
       "      <td>8500000.0</td>\n",
       "      <td>4</td>\n",
       "    </tr>\n",
       "    <tr>\n",
       "      <th>1194</th>\n",
       "      <td>Vayalilkkada</td>\n",
       "      <td>4 BHK</td>\n",
       "      <td>3300</td>\n",
       "      <td>5</td>\n",
       "      <td>24500000.0</td>\n",
       "      <td>4</td>\n",
       "    </tr>\n",
       "    <tr>\n",
       "      <th>1195</th>\n",
       "      <td>Kariavattom</td>\n",
       "      <td>5 BHK</td>\n",
       "      <td>3795</td>\n",
       "      <td>5</td>\n",
       "      <td>21000000.0</td>\n",
       "      <td>5</td>\n",
       "    </tr>\n",
       "    <tr>\n",
       "      <th>1196</th>\n",
       "      <td>Kazhakoottam</td>\n",
       "      <td>3 BHK</td>\n",
       "      <td>1500</td>\n",
       "      <td>3</td>\n",
       "      <td>6900000.0</td>\n",
       "      <td>3</td>\n",
       "    </tr>\n",
       "  </tbody>\n",
       "</table>\n",
       "<p>1197 rows × 6 columns</p>\n",
       "</div>"
      ],
      "text/plain": [
       "           location    size  total_sqft  bath       Price  bhk\n",
       "0     Jawahar Nagar  4 BHK         2700     5  40000000.0    4\n",
       "1        Vanchiyoor  5 BHK         3500     5  27500000.0    5\n",
       "2        Vanchiyoor  5 BHK         3700     5  27500000.0    5\n",
       "3           Kowdiar  3 BHK         1650     4   8000000.0    3\n",
       "4            Pattom  4 BHK         3800     4  32500000.0    4\n",
       "...             ...     ...         ...   ...         ...  ...\n",
       "1192      Thirumala  5 BHK         2800     5  14500000.0    5\n",
       "1193      Thirumala  4 BHK         2100     4   8500000.0    4\n",
       "1194   Vayalilkkada  4 BHK         3300     5  24500000.0    4\n",
       "1195    Kariavattom  5 BHK         3795     5  21000000.0    5\n",
       "1196   Kazhakoottam  3 BHK         1500     3   6900000.0    3\n",
       "\n",
       "[1197 rows x 6 columns]"
      ]
     },
     "execution_count": 23,
     "metadata": {},
     "output_type": "execute_result"
    }
   ],
   "source": [
    "df"
   ]
  },
  {
   "cell_type": "code",
   "execution_count": 24,
   "id": "c3e405a9",
   "metadata": {},
   "outputs": [
    {
     "data": {
      "text/plain": [
       "Kowdiar            91\n",
       "Pattom             86\n",
       "Thirumala          82\n",
       "Kesavadasapuram    45\n",
       "Karamana           34\n",
       "                   ..\n",
       "Sasthamangalam      1\n",
       "Attingal            1\n",
       "Ptp nagar           1\n",
       "Mukkola             1\n",
       "Kudappanakunnu      1\n",
       "Name: location, Length: 165, dtype: int64"
      ]
     },
     "execution_count": 24,
     "metadata": {},
     "output_type": "execute_result"
    }
   ],
   "source": [
    "df['location'].value_counts()"
   ]
  },
  {
   "cell_type": "code",
   "execution_count": 25,
   "id": "9bf84e57",
   "metadata": {},
   "outputs": [],
   "source": [
    "df['location'] = df['location' ].apply(lambda x: x.strip())\n",
    "location_counts = df ['location'].value_counts()"
   ]
  },
  {
   "cell_type": "code",
   "execution_count": 26,
   "id": "1d9a249b",
   "metadata": {},
   "outputs": [
    {
     "data": {
      "text/plain": [
       "Kowdiar            91\n",
       "Pattom             86\n",
       "Thirumala          82\n",
       "Kesavadasapuram    45\n",
       "Karamana           34\n",
       "                   ..\n",
       "Attingal            1\n",
       "Ptp nagar           1\n",
       "Muttada             1\n",
       "Punnakulam          1\n",
       "Kudappanakunnu      1\n",
       "Name: location, Length: 163, dtype: int64"
      ]
     },
     "execution_count": 26,
     "metadata": {},
     "output_type": "execute_result"
    }
   ],
   "source": [
    "location_counts"
   ]
  },
  {
   "cell_type": "code",
   "execution_count": 27,
   "id": "a8389abe",
   "metadata": {},
   "outputs": [],
   "source": [
    "location_count_less_1 = location_counts[location_counts<=10]"
   ]
  },
  {
   "cell_type": "code",
   "execution_count": 28,
   "id": "f8fd58a1",
   "metadata": {},
   "outputs": [
    {
     "data": {
      "text/plain": [
       "other              438\n",
       "Kowdiar             91\n",
       "Pattom              86\n",
       "Thirumala           82\n",
       "Kesavadasapuram     45\n",
       "Kazhakoottam        34\n",
       "Karamana            34\n",
       "Kumarapuram         34\n",
       "Ulloor              33\n",
       "Manacaud            28\n",
       "Anayara             26\n",
       "Thampanoor          26\n",
       "Akkulam             25\n",
       "Pongumoodu          20\n",
       "Vattiyoorkavu       19\n",
       "Thycaud             19\n",
       "Vazhuthacaud        17\n",
       "Vanchiyoor          17\n",
       "Ambalamukku         17\n",
       "Peroorkada          17\n",
       "Karikkakam          14\n",
       "Sreekaryam          14\n",
       "Pattoor             14\n",
       "Peyad               13\n",
       "Attukal             12\n",
       "Kuravankonam        11\n",
       "Mannanthala         11\n",
       "Name: location, dtype: int64"
      ]
     },
     "execution_count": 28,
     "metadata": {},
     "output_type": "execute_result"
    }
   ],
   "source": [
    "df['location']=df['location'].apply(lambda x: 'other' if x in location_count_less_1 else x)\n",
    "df['location'].value_counts()"
   ]
  },
  {
   "cell_type": "code",
   "execution_count": 29,
   "id": "b28c70ee",
   "metadata": {},
   "outputs": [
    {
     "data": {
      "text/html": [
       "<div>\n",
       "<style scoped>\n",
       "    .dataframe tbody tr th:only-of-type {\n",
       "        vertical-align: middle;\n",
       "    }\n",
       "\n",
       "    .dataframe tbody tr th {\n",
       "        vertical-align: top;\n",
       "    }\n",
       "\n",
       "    .dataframe thead th {\n",
       "        text-align: right;\n",
       "    }\n",
       "</style>\n",
       "<table border=\"1\" class=\"dataframe\">\n",
       "  <thead>\n",
       "    <tr style=\"text-align: right;\">\n",
       "      <th></th>\n",
       "      <th>total_sqft</th>\n",
       "      <th>bath</th>\n",
       "      <th>Price</th>\n",
       "      <th>bhk</th>\n",
       "    </tr>\n",
       "  </thead>\n",
       "  <tbody>\n",
       "    <tr>\n",
       "      <th>count</th>\n",
       "      <td>1197.000000</td>\n",
       "      <td>1197.000000</td>\n",
       "      <td>1.197000e+03</td>\n",
       "      <td>1197.000000</td>\n",
       "    </tr>\n",
       "    <tr>\n",
       "      <th>mean</th>\n",
       "      <td>2523.011696</td>\n",
       "      <td>3.395155</td>\n",
       "      <td>1.310208e+07</td>\n",
       "      <td>3.592314</td>\n",
       "    </tr>\n",
       "    <tr>\n",
       "      <th>std</th>\n",
       "      <td>2163.581452</td>\n",
       "      <td>1.200645</td>\n",
       "      <td>2.283695e+07</td>\n",
       "      <td>0.982731</td>\n",
       "    </tr>\n",
       "    <tr>\n",
       "      <th>min</th>\n",
       "      <td>0.000000</td>\n",
       "      <td>0.000000</td>\n",
       "      <td>1.400000e+05</td>\n",
       "      <td>1.000000</td>\n",
       "    </tr>\n",
       "    <tr>\n",
       "      <th>25%</th>\n",
       "      <td>1500.000000</td>\n",
       "      <td>3.000000</td>\n",
       "      <td>6.000000e+06</td>\n",
       "      <td>3.000000</td>\n",
       "    </tr>\n",
       "    <tr>\n",
       "      <th>50%</th>\n",
       "      <td>2000.000000</td>\n",
       "      <td>3.000000</td>\n",
       "      <td>8.300000e+06</td>\n",
       "      <td>4.000000</td>\n",
       "    </tr>\n",
       "    <tr>\n",
       "      <th>75%</th>\n",
       "      <td>3000.000000</td>\n",
       "      <td>4.000000</td>\n",
       "      <td>1.500000e+07</td>\n",
       "      <td>4.000000</td>\n",
       "    </tr>\n",
       "    <tr>\n",
       "      <th>max</th>\n",
       "      <td>35000.000000</td>\n",
       "      <td>8.000000</td>\n",
       "      <td>4.430000e+08</td>\n",
       "      <td>8.000000</td>\n",
       "    </tr>\n",
       "  </tbody>\n",
       "</table>\n",
       "</div>"
      ],
      "text/plain": [
       "         total_sqft         bath         Price          bhk\n",
       "count   1197.000000  1197.000000  1.197000e+03  1197.000000\n",
       "mean    2523.011696     3.395155  1.310208e+07     3.592314\n",
       "std     2163.581452     1.200645  2.283695e+07     0.982731\n",
       "min        0.000000     0.000000  1.400000e+05     1.000000\n",
       "25%     1500.000000     3.000000  6.000000e+06     3.000000\n",
       "50%     2000.000000     3.000000  8.300000e+06     4.000000\n",
       "75%     3000.000000     4.000000  1.500000e+07     4.000000\n",
       "max    35000.000000     8.000000  4.430000e+08     8.000000"
      ]
     },
     "execution_count": 29,
     "metadata": {},
     "output_type": "execute_result"
    }
   ],
   "source": [
    "df.describe()"
   ]
  },
  {
   "cell_type": "code",
   "execution_count": 30,
   "id": "eb3c62ad",
   "metadata": {},
   "outputs": [],
   "source": [
    "df['price_per_sqft']=df['Price']/df['total_sqft']"
   ]
  },
  {
   "cell_type": "code",
   "execution_count": 31,
   "id": "2f082835",
   "metadata": {},
   "outputs": [
    {
     "data": {
      "text/plain": [
       "0       14814.814815\n",
       "1        7857.142857\n",
       "2        7432.432432\n",
       "3        4848.484848\n",
       "4        8552.631579\n",
       "            ...     \n",
       "1192     5178.571429\n",
       "1193     4047.619048\n",
       "1194     7424.242424\n",
       "1195     5533.596838\n",
       "1196     4600.000000\n",
       "Name: price_per_sqft, Length: 1197, dtype: float64"
      ]
     },
     "execution_count": 31,
     "metadata": {},
     "output_type": "execute_result"
    }
   ],
   "source": [
    "df['price_per_sqft']"
   ]
  },
  {
   "cell_type": "code",
   "execution_count": 32,
   "id": "c0836799",
   "metadata": {},
   "outputs": [
    {
     "data": {
      "text/html": [
       "<div>\n",
       "<style scoped>\n",
       "    .dataframe tbody tr th:only-of-type {\n",
       "        vertical-align: middle;\n",
       "    }\n",
       "\n",
       "    .dataframe tbody tr th {\n",
       "        vertical-align: top;\n",
       "    }\n",
       "\n",
       "    .dataframe thead th {\n",
       "        text-align: right;\n",
       "    }\n",
       "</style>\n",
       "<table border=\"1\" class=\"dataframe\">\n",
       "  <thead>\n",
       "    <tr style=\"text-align: right;\">\n",
       "      <th></th>\n",
       "      <th>total_sqft</th>\n",
       "      <th>bath</th>\n",
       "      <th>Price</th>\n",
       "      <th>bhk</th>\n",
       "      <th>price_per_sqft</th>\n",
       "    </tr>\n",
       "  </thead>\n",
       "  <tbody>\n",
       "    <tr>\n",
       "      <th>count</th>\n",
       "      <td>1197.000000</td>\n",
       "      <td>1197.000000</td>\n",
       "      <td>1.197000e+03</td>\n",
       "      <td>1197.000000</td>\n",
       "      <td>1197.000000</td>\n",
       "    </tr>\n",
       "    <tr>\n",
       "      <th>mean</th>\n",
       "      <td>2523.011696</td>\n",
       "      <td>3.395155</td>\n",
       "      <td>1.310208e+07</td>\n",
       "      <td>3.592314</td>\n",
       "      <td>inf</td>\n",
       "    </tr>\n",
       "    <tr>\n",
       "      <th>std</th>\n",
       "      <td>2163.581452</td>\n",
       "      <td>1.200645</td>\n",
       "      <td>2.283695e+07</td>\n",
       "      <td>0.982731</td>\n",
       "      <td>NaN</td>\n",
       "    </tr>\n",
       "    <tr>\n",
       "      <th>min</th>\n",
       "      <td>0.000000</td>\n",
       "      <td>0.000000</td>\n",
       "      <td>1.400000e+05</td>\n",
       "      <td>1.000000</td>\n",
       "      <td>56.000000</td>\n",
       "    </tr>\n",
       "    <tr>\n",
       "      <th>25%</th>\n",
       "      <td>1500.000000</td>\n",
       "      <td>3.000000</td>\n",
       "      <td>6.000000e+06</td>\n",
       "      <td>3.000000</td>\n",
       "      <td>3454.545455</td>\n",
       "    </tr>\n",
       "    <tr>\n",
       "      <th>50%</th>\n",
       "      <td>2000.000000</td>\n",
       "      <td>3.000000</td>\n",
       "      <td>8.300000e+06</td>\n",
       "      <td>4.000000</td>\n",
       "      <td>4640.000000</td>\n",
       "    </tr>\n",
       "    <tr>\n",
       "      <th>75%</th>\n",
       "      <td>3000.000000</td>\n",
       "      <td>4.000000</td>\n",
       "      <td>1.500000e+07</td>\n",
       "      <td>4.000000</td>\n",
       "      <td>6315.789474</td>\n",
       "    </tr>\n",
       "    <tr>\n",
       "      <th>max</th>\n",
       "      <td>35000.000000</td>\n",
       "      <td>8.000000</td>\n",
       "      <td>4.430000e+08</td>\n",
       "      <td>8.000000</td>\n",
       "      <td>inf</td>\n",
       "    </tr>\n",
       "  </tbody>\n",
       "</table>\n",
       "</div>"
      ],
      "text/plain": [
       "         total_sqft         bath         Price          bhk  price_per_sqft\n",
       "count   1197.000000  1197.000000  1.197000e+03  1197.000000     1197.000000\n",
       "mean    2523.011696     3.395155  1.310208e+07     3.592314             inf\n",
       "std     2163.581452     1.200645  2.283695e+07     0.982731             NaN\n",
       "min        0.000000     0.000000  1.400000e+05     1.000000       56.000000\n",
       "25%     1500.000000     3.000000  6.000000e+06     3.000000     3454.545455\n",
       "50%     2000.000000     3.000000  8.300000e+06     4.000000     4640.000000\n",
       "75%     3000.000000     4.000000  1.500000e+07     4.000000     6315.789474\n",
       "max    35000.000000     8.000000  4.430000e+08     8.000000             inf"
      ]
     },
     "execution_count": 32,
     "metadata": {},
     "output_type": "execute_result"
    }
   ],
   "source": [
    "df.describe()"
   ]
  },
  {
   "cell_type": "code",
   "execution_count": 33,
   "id": "97fa438f",
   "metadata": {},
   "outputs": [
    {
     "data": {
      "text/plain": [
       "count     1197.000000\n",
       "mean       717.005223\n",
       "std        718.328851\n",
       "min          0.000000\n",
       "25%        460.000000\n",
       "50%        550.000000\n",
       "75%        750.000000\n",
       "max      13650.000000\n",
       "dtype: float64"
      ]
     },
     "execution_count": 33,
     "metadata": {},
     "output_type": "execute_result"
    }
   ],
   "source": [
    "(df['total_sqft']/df['bhk']).describe()"
   ]
  },
  {
   "cell_type": "code",
   "execution_count": 34,
   "id": "79e312b9",
   "metadata": {},
   "outputs": [
    {
     "data": {
      "text/html": [
       "<div>\n",
       "<style scoped>\n",
       "    .dataframe tbody tr th:only-of-type {\n",
       "        vertical-align: middle;\n",
       "    }\n",
       "\n",
       "    .dataframe tbody tr th {\n",
       "        vertical-align: top;\n",
       "    }\n",
       "\n",
       "    .dataframe thead th {\n",
       "        text-align: right;\n",
       "    }\n",
       "</style>\n",
       "<table border=\"1\" class=\"dataframe\">\n",
       "  <thead>\n",
       "    <tr style=\"text-align: right;\">\n",
       "      <th></th>\n",
       "      <th>total_sqft</th>\n",
       "      <th>bath</th>\n",
       "      <th>Price</th>\n",
       "      <th>bhk</th>\n",
       "      <th>price_per_sqft</th>\n",
       "    </tr>\n",
       "  </thead>\n",
       "  <tbody>\n",
       "    <tr>\n",
       "      <th>count</th>\n",
       "      <td>1181.000000</td>\n",
       "      <td>1181.000000</td>\n",
       "      <td>1.181000e+03</td>\n",
       "      <td>1181.000000</td>\n",
       "      <td>1181.000000</td>\n",
       "    </tr>\n",
       "    <tr>\n",
       "      <th>mean</th>\n",
       "      <td>2553.734124</td>\n",
       "      <td>3.408129</td>\n",
       "      <td>1.316303e+07</td>\n",
       "      <td>3.601185</td>\n",
       "      <td>5340.413395</td>\n",
       "    </tr>\n",
       "    <tr>\n",
       "      <th>std</th>\n",
       "      <td>2161.509596</td>\n",
       "      <td>1.195075</td>\n",
       "      <td>2.294514e+07</td>\n",
       "      <td>0.971264</td>\n",
       "      <td>4825.710696</td>\n",
       "    </tr>\n",
       "    <tr>\n",
       "      <th>min</th>\n",
       "      <td>450.000000</td>\n",
       "      <td>0.000000</td>\n",
       "      <td>1.400000e+05</td>\n",
       "      <td>1.000000</td>\n",
       "      <td>56.000000</td>\n",
       "    </tr>\n",
       "    <tr>\n",
       "      <th>25%</th>\n",
       "      <td>1500.000000</td>\n",
       "      <td>3.000000</td>\n",
       "      <td>6.000000e+06</td>\n",
       "      <td>3.000000</td>\n",
       "      <td>3444.444444</td>\n",
       "    </tr>\n",
       "    <tr>\n",
       "      <th>50%</th>\n",
       "      <td>2000.000000</td>\n",
       "      <td>3.000000</td>\n",
       "      <td>8.500000e+06</td>\n",
       "      <td>4.000000</td>\n",
       "      <td>4631.578947</td>\n",
       "    </tr>\n",
       "    <tr>\n",
       "      <th>75%</th>\n",
       "      <td>3000.000000</td>\n",
       "      <td>4.000000</td>\n",
       "      <td>1.500000e+07</td>\n",
       "      <td>4.000000</td>\n",
       "      <td>6250.000000</td>\n",
       "    </tr>\n",
       "    <tr>\n",
       "      <th>max</th>\n",
       "      <td>35000.000000</td>\n",
       "      <td>8.000000</td>\n",
       "      <td>4.430000e+08</td>\n",
       "      <td>8.000000</td>\n",
       "      <td>114285.714286</td>\n",
       "    </tr>\n",
       "  </tbody>\n",
       "</table>\n",
       "</div>"
      ],
      "text/plain": [
       "         total_sqft         bath         Price          bhk  price_per_sqft\n",
       "count   1181.000000  1181.000000  1.181000e+03  1181.000000     1181.000000\n",
       "mean    2553.734124     3.408129  1.316303e+07     3.601185     5340.413395\n",
       "std     2161.509596     1.195075  2.294514e+07     0.971264     4825.710696\n",
       "min      450.000000     0.000000  1.400000e+05     1.000000       56.000000\n",
       "25%     1500.000000     3.000000  6.000000e+06     3.000000     3444.444444\n",
       "50%     2000.000000     3.000000  8.500000e+06     4.000000     4631.578947\n",
       "75%     3000.000000     4.000000  1.500000e+07     4.000000     6250.000000\n",
       "max    35000.000000     8.000000  4.430000e+08     8.000000   114285.714286"
      ]
     },
     "execution_count": 34,
     "metadata": {},
     "output_type": "execute_result"
    }
   ],
   "source": [
    "df=df[((df['total_sqft']/df['bhk'])>=200)]\n",
    "df.describe()"
   ]
  },
  {
   "cell_type": "code",
   "execution_count": 35,
   "id": "398304ea",
   "metadata": {},
   "outputs": [
    {
     "data": {
      "text/plain": [
       "(1181, 7)"
      ]
     },
     "execution_count": 35,
     "metadata": {},
     "output_type": "execute_result"
    }
   ],
   "source": [
    "df.shape"
   ]
  },
  {
   "cell_type": "code",
   "execution_count": 36,
   "id": "66a2ce94",
   "metadata": {},
   "outputs": [
    {
     "data": {
      "text/plain": [
       "count      1181.000000\n",
       "mean       5340.413395\n",
       "std        4825.710696\n",
       "min          56.000000\n",
       "25%        3444.444444\n",
       "50%        4631.578947\n",
       "75%        6250.000000\n",
       "max      114285.714286\n",
       "Name: price_per_sqft, dtype: float64"
      ]
     },
     "execution_count": 36,
     "metadata": {},
     "output_type": "execute_result"
    }
   ],
   "source": [
    "df.price_per_sqft.describe()"
   ]
  },
  {
   "cell_type": "code",
   "execution_count": 37,
   "id": "2bca6a12",
   "metadata": {},
   "outputs": [
    {
     "data": {
      "text/plain": [
       "(1181, 7)"
      ]
     },
     "execution_count": 37,
     "metadata": {},
     "output_type": "execute_result"
    }
   ],
   "source": [
    "df.shape"
   ]
  },
  {
   "cell_type": "code",
   "execution_count": 38,
   "id": "9a633407",
   "metadata": {},
   "outputs": [
    {
     "data": {
      "text/html": [
       "<div>\n",
       "<style scoped>\n",
       "    .dataframe tbody tr th:only-of-type {\n",
       "        vertical-align: middle;\n",
       "    }\n",
       "\n",
       "    .dataframe tbody tr th {\n",
       "        vertical-align: top;\n",
       "    }\n",
       "\n",
       "    .dataframe thead th {\n",
       "        text-align: right;\n",
       "    }\n",
       "</style>\n",
       "<table border=\"1\" class=\"dataframe\">\n",
       "  <thead>\n",
       "    <tr style=\"text-align: right;\">\n",
       "      <th></th>\n",
       "      <th>location</th>\n",
       "      <th>size</th>\n",
       "      <th>total_sqft</th>\n",
       "      <th>bath</th>\n",
       "      <th>Price</th>\n",
       "      <th>bhk</th>\n",
       "      <th>price_per_sqft</th>\n",
       "    </tr>\n",
       "  </thead>\n",
       "  <tbody>\n",
       "    <tr>\n",
       "      <th>0</th>\n",
       "      <td>other</td>\n",
       "      <td>4 BHK</td>\n",
       "      <td>2700</td>\n",
       "      <td>5</td>\n",
       "      <td>40000000.0</td>\n",
       "      <td>4</td>\n",
       "      <td>14814.814815</td>\n",
       "    </tr>\n",
       "    <tr>\n",
       "      <th>1</th>\n",
       "      <td>Vanchiyoor</td>\n",
       "      <td>5 BHK</td>\n",
       "      <td>3500</td>\n",
       "      <td>5</td>\n",
       "      <td>27500000.0</td>\n",
       "      <td>5</td>\n",
       "      <td>7857.142857</td>\n",
       "    </tr>\n",
       "    <tr>\n",
       "      <th>2</th>\n",
       "      <td>Vanchiyoor</td>\n",
       "      <td>5 BHK</td>\n",
       "      <td>3700</td>\n",
       "      <td>5</td>\n",
       "      <td>27500000.0</td>\n",
       "      <td>5</td>\n",
       "      <td>7432.432432</td>\n",
       "    </tr>\n",
       "    <tr>\n",
       "      <th>3</th>\n",
       "      <td>Kowdiar</td>\n",
       "      <td>3 BHK</td>\n",
       "      <td>1650</td>\n",
       "      <td>4</td>\n",
       "      <td>8000000.0</td>\n",
       "      <td>3</td>\n",
       "      <td>4848.484848</td>\n",
       "    </tr>\n",
       "    <tr>\n",
       "      <th>4</th>\n",
       "      <td>Pattom</td>\n",
       "      <td>4 BHK</td>\n",
       "      <td>3800</td>\n",
       "      <td>4</td>\n",
       "      <td>32500000.0</td>\n",
       "      <td>4</td>\n",
       "      <td>8552.631579</td>\n",
       "    </tr>\n",
       "    <tr>\n",
       "      <th>...</th>\n",
       "      <td>...</td>\n",
       "      <td>...</td>\n",
       "      <td>...</td>\n",
       "      <td>...</td>\n",
       "      <td>...</td>\n",
       "      <td>...</td>\n",
       "      <td>...</td>\n",
       "    </tr>\n",
       "    <tr>\n",
       "      <th>1192</th>\n",
       "      <td>Thirumala</td>\n",
       "      <td>5 BHK</td>\n",
       "      <td>2800</td>\n",
       "      <td>5</td>\n",
       "      <td>14500000.0</td>\n",
       "      <td>5</td>\n",
       "      <td>5178.571429</td>\n",
       "    </tr>\n",
       "    <tr>\n",
       "      <th>1193</th>\n",
       "      <td>Thirumala</td>\n",
       "      <td>4 BHK</td>\n",
       "      <td>2100</td>\n",
       "      <td>4</td>\n",
       "      <td>8500000.0</td>\n",
       "      <td>4</td>\n",
       "      <td>4047.619048</td>\n",
       "    </tr>\n",
       "    <tr>\n",
       "      <th>1194</th>\n",
       "      <td>other</td>\n",
       "      <td>4 BHK</td>\n",
       "      <td>3300</td>\n",
       "      <td>5</td>\n",
       "      <td>24500000.0</td>\n",
       "      <td>4</td>\n",
       "      <td>7424.242424</td>\n",
       "    </tr>\n",
       "    <tr>\n",
       "      <th>1195</th>\n",
       "      <td>other</td>\n",
       "      <td>5 BHK</td>\n",
       "      <td>3795</td>\n",
       "      <td>5</td>\n",
       "      <td>21000000.0</td>\n",
       "      <td>5</td>\n",
       "      <td>5533.596838</td>\n",
       "    </tr>\n",
       "    <tr>\n",
       "      <th>1196</th>\n",
       "      <td>Kazhakoottam</td>\n",
       "      <td>3 BHK</td>\n",
       "      <td>1500</td>\n",
       "      <td>3</td>\n",
       "      <td>6900000.0</td>\n",
       "      <td>3</td>\n",
       "      <td>4600.000000</td>\n",
       "    </tr>\n",
       "  </tbody>\n",
       "</table>\n",
       "<p>1181 rows × 7 columns</p>\n",
       "</div>"
      ],
      "text/plain": [
       "          location    size  total_sqft  bath       Price  bhk  price_per_sqft\n",
       "0            other  4 BHK         2700     5  40000000.0    4    14814.814815\n",
       "1       Vanchiyoor  5 BHK         3500     5  27500000.0    5     7857.142857\n",
       "2       Vanchiyoor  5 BHK         3700     5  27500000.0    5     7432.432432\n",
       "3          Kowdiar  3 BHK         1650     4   8000000.0    3     4848.484848\n",
       "4           Pattom  4 BHK         3800     4  32500000.0    4     8552.631579\n",
       "...            ...     ...         ...   ...         ...  ...             ...\n",
       "1192     Thirumala  5 BHK         2800     5  14500000.0    5     5178.571429\n",
       "1193     Thirumala  4 BHK         2100     4   8500000.0    4     4047.619048\n",
       "1194         other  4 BHK         3300     5  24500000.0    4     7424.242424\n",
       "1195         other  5 BHK         3795     5  21000000.0    5     5533.596838\n",
       "1196  Kazhakoottam  3 BHK         1500     3   6900000.0    3     4600.000000\n",
       "\n",
       "[1181 rows x 7 columns]"
      ]
     },
     "execution_count": 38,
     "metadata": {},
     "output_type": "execute_result"
    }
   ],
   "source": [
    "df"
   ]
  },
  {
   "cell_type": "code",
   "execution_count": 39,
   "id": "66f51786",
   "metadata": {},
   "outputs": [
    {
     "name": "stderr",
     "output_type": "stream",
     "text": [
      "C:\\Users\\91892\\AppData\\Local\\Temp\\ipykernel_12268\\1032069002.py:1: SettingWithCopyWarning: \n",
      "A value is trying to be set on a copy of a slice from a DataFrame\n",
      "\n",
      "See the caveats in the documentation: https://pandas.pydata.org/pandas-docs/stable/user_guide/indexing.html#returning-a-view-versus-a-copy\n",
      "  df.drop(columns=['size','price_per_sqft'],inplace=True)\n"
     ]
    }
   ],
   "source": [
    "df.drop(columns=['size','price_per_sqft'],inplace=True)"
   ]
  },
  {
   "cell_type": "code",
   "execution_count": 40,
   "id": "8e9a2f5e",
   "metadata": {},
   "outputs": [],
   "source": [
    "## Cleaned data"
   ]
  },
  {
   "cell_type": "code",
   "execution_count": 41,
   "id": "47a1a138",
   "metadata": {},
   "outputs": [
    {
     "data": {
      "text/html": [
       "<div>\n",
       "<style scoped>\n",
       "    .dataframe tbody tr th:only-of-type {\n",
       "        vertical-align: middle;\n",
       "    }\n",
       "\n",
       "    .dataframe tbody tr th {\n",
       "        vertical-align: top;\n",
       "    }\n",
       "\n",
       "    .dataframe thead th {\n",
       "        text-align: right;\n",
       "    }\n",
       "</style>\n",
       "<table border=\"1\" class=\"dataframe\">\n",
       "  <thead>\n",
       "    <tr style=\"text-align: right;\">\n",
       "      <th></th>\n",
       "      <th>location</th>\n",
       "      <th>total_sqft</th>\n",
       "      <th>bath</th>\n",
       "      <th>Price</th>\n",
       "      <th>bhk</th>\n",
       "    </tr>\n",
       "  </thead>\n",
       "  <tbody>\n",
       "    <tr>\n",
       "      <th>0</th>\n",
       "      <td>other</td>\n",
       "      <td>2700</td>\n",
       "      <td>5</td>\n",
       "      <td>40000000.0</td>\n",
       "      <td>4</td>\n",
       "    </tr>\n",
       "    <tr>\n",
       "      <th>1</th>\n",
       "      <td>Vanchiyoor</td>\n",
       "      <td>3500</td>\n",
       "      <td>5</td>\n",
       "      <td>27500000.0</td>\n",
       "      <td>5</td>\n",
       "    </tr>\n",
       "    <tr>\n",
       "      <th>2</th>\n",
       "      <td>Vanchiyoor</td>\n",
       "      <td>3700</td>\n",
       "      <td>5</td>\n",
       "      <td>27500000.0</td>\n",
       "      <td>5</td>\n",
       "    </tr>\n",
       "    <tr>\n",
       "      <th>3</th>\n",
       "      <td>Kowdiar</td>\n",
       "      <td>1650</td>\n",
       "      <td>4</td>\n",
       "      <td>8000000.0</td>\n",
       "      <td>3</td>\n",
       "    </tr>\n",
       "    <tr>\n",
       "      <th>4</th>\n",
       "      <td>Pattom</td>\n",
       "      <td>3800</td>\n",
       "      <td>4</td>\n",
       "      <td>32500000.0</td>\n",
       "      <td>4</td>\n",
       "    </tr>\n",
       "  </tbody>\n",
       "</table>\n",
       "</div>"
      ],
      "text/plain": [
       "     location  total_sqft  bath       Price  bhk\n",
       "0       other        2700     5  40000000.0    4\n",
       "1  Vanchiyoor        3500     5  27500000.0    5\n",
       "2  Vanchiyoor        3700     5  27500000.0    5\n",
       "3     Kowdiar        1650     4   8000000.0    3\n",
       "4      Pattom        3800     4  32500000.0    4"
      ]
     },
     "execution_count": 41,
     "metadata": {},
     "output_type": "execute_result"
    }
   ],
   "source": [
    "df.head()"
   ]
  },
  {
   "cell_type": "code",
   "execution_count": 42,
   "id": "36bf3135",
   "metadata": {},
   "outputs": [],
   "source": [
    "df.to_csv(\"Cleaned_data_house.csv\")"
   ]
  },
  {
   "cell_type": "code",
   "execution_count": 43,
   "id": "112556ee",
   "metadata": {},
   "outputs": [],
   "source": [
    "#model"
   ]
  },
  {
   "cell_type": "code",
   "execution_count": 44,
   "id": "be58200e",
   "metadata": {},
   "outputs": [],
   "source": [
    "X=df.drop(columns=['Price'])\n",
    "y=df['Price']"
   ]
  },
  {
   "cell_type": "code",
   "execution_count": 45,
   "id": "814f080b",
   "metadata": {},
   "outputs": [],
   "source": [
    "X_train, X_test, y_train, y_test = train_test_split(X,y,test_size=0.25,random_state=2157)"
   ]
  },
  {
   "cell_type": "code",
   "execution_count": 46,
   "id": "61dcb8c6",
   "metadata": {},
   "outputs": [
    {
     "name": "stdout",
     "output_type": "stream",
     "text": [
      "(885, 4)\n",
      "(296, 4)\n"
     ]
    }
   ],
   "source": [
    "print (X_train.shape)\n",
    "print (X_test.shape)"
   ]
  },
  {
   "cell_type": "code",
   "execution_count": null,
   "id": "e67a3b6b",
   "metadata": {},
   "outputs": [],
   "source": []
  },
  {
   "cell_type": "code",
   "execution_count": 47,
   "id": "a39647be",
   "metadata": {},
   "outputs": [],
   "source": [
    "column_trans=make_column_transformer((OneHotEncoder(sparse=False),['location']),remainder='passthrough')"
   ]
  },
  {
   "cell_type": "code",
   "execution_count": 48,
   "id": "8130c619",
   "metadata": {},
   "outputs": [],
   "source": [
    "scaler=StandardScaler()"
   ]
  },
  {
   "cell_type": "code",
   "execution_count": 49,
   "id": "8d5c5dee",
   "metadata": {},
   "outputs": [],
   "source": [
    "lr=LinearRegression()"
   ]
  },
  {
   "cell_type": "code",
   "execution_count": 50,
   "id": "9518503a",
   "metadata": {},
   "outputs": [],
   "source": [
    "from sklearn.ensemble import RandomForestRegressor\n",
    "rfr = RandomForestRegressor(n_estimators = 500, random_state = 0)"
   ]
  },
  {
   "cell_type": "code",
   "execution_count": 51,
   "id": "54f2b4a5",
   "metadata": {},
   "outputs": [],
   "source": [
    "pipe1=make_pipeline(column_trans,scaler,lr)\n",
    "pipe2=make_pipeline(column_trans,scaler,rfr)"
   ]
  },
  {
   "cell_type": "code",
   "execution_count": 52,
   "id": "6b01e964",
   "metadata": {},
   "outputs": [
    {
     "data": {
      "text/plain": [
       "Pipeline(steps=[('columntransformer',\n",
       "                 ColumnTransformer(remainder='passthrough',\n",
       "                                   transformers=[('onehotencoder',\n",
       "                                                  OneHotEncoder(sparse=False),\n",
       "                                                  ['location'])])),\n",
       "                ('standardscaler', StandardScaler()),\n",
       "                ('linearregression', LinearRegression())])"
      ]
     },
     "execution_count": 52,
     "metadata": {},
     "output_type": "execute_result"
    }
   ],
   "source": [
    "pipe1.fit(X_train,y_train)"
   ]
  },
  {
   "cell_type": "code",
   "execution_count": 53,
   "id": "fdf7bb73",
   "metadata": {},
   "outputs": [
    {
     "data": {
      "text/plain": [
       "Pipeline(steps=[('columntransformer',\n",
       "                 ColumnTransformer(remainder='passthrough',\n",
       "                                   transformers=[('onehotencoder',\n",
       "                                                  OneHotEncoder(sparse=False),\n",
       "                                                  ['location'])])),\n",
       "                ('standardscaler', StandardScaler()),\n",
       "                ('randomforestregressor',\n",
       "                 RandomForestRegressor(n_estimators=500, random_state=0))])"
      ]
     },
     "execution_count": 53,
     "metadata": {},
     "output_type": "execute_result"
    }
   ],
   "source": [
    "pipe2.fit(X_train,y_train)"
   ]
  },
  {
   "cell_type": "code",
   "execution_count": 54,
   "id": "59c693f2",
   "metadata": {},
   "outputs": [
    {
     "data": {
      "text/plain": [
       "array([ 5.04266877e+06,  6.22231677e+06,  6.54999677e+06,  7.72964477e+06,\n",
       "        6.22231677e+06,  1.06132288e+07,  2.01159488e+07,  1.23827008e+07,\n",
       "        5.23927677e+06,  1.13996608e+07,  2.70627648e+07,  4.19070077e+06,\n",
       "        1.36934208e+07,  2.87998077e+06,  1.04821568e+07,  2.73249088e+07,\n",
       "        1.21205568e+07,  9.56465277e+06,  7.53303677e+06,  1.76586877e+06,\n",
       "        1.04821568e+07,  2.10989888e+07,  1.33657408e+07,  1.59216448e+07,\n",
       "        1.40211008e+07,  2.19509568e+07,  1.27103808e+07,  1.15307328e+07,\n",
       "        6.94321277e+06,  6.81214077e+06,  5.08523328e+07, -2.65747231e+05,\n",
       "        2.21475648e+07,  5.82910077e+06,  2.97497408e+07,  2.05091648e+07,\n",
       "        1.61837888e+07,  4.19070077e+06,  6.94321277e+06,  2.16232768e+07,\n",
       "        2.23441728e+07,  8.12286077e+06,  2.18854208e+07,  1.98538048e+07,\n",
       "        1.84120128e+07,  1.90018368e+07,  6.51756769e+05,  1.06132288e+07,\n",
       "        2.10989888e+07,  1.78221888e+07,  1.70357568e+07,  5.56695677e+06,\n",
       "        8.25393277e+06,  1.17273408e+07,  9.49911677e+06,  8.90929277e+06,\n",
       "        1.46764608e+07,  1.19239488e+07,  1.58986733e+08,  1.29069888e+07,\n",
       "        1.95916608e+07,  9.10590077e+06,  5.43588477e+06,  9.69572477e+06,\n",
       "        1.29725248e+07,  1.07443008e+07,  2.16232768e+07,  7.79518077e+06,\n",
       "        3.99409277e+06,  5.82910077e+06,  3.48615488e+07,  5.89463677e+06,\n",
       "        7.99178877e+06, -3.31283231e+05,  1.46109248e+07,  2.12955968e+07,\n",
       "        1.02200128e+07,  4.38730877e+06,  1.54628928e+07,  1.17273408e+07,\n",
       "        2.37859648e+07,  5.10820477e+06,  1.24482368e+07,  1.37589568e+07,\n",
       "        2.97497408e+07,  1.02200128e+07,  5.04266877e+06,  9.89233277e+06,\n",
       "        5.43588477e+06,  3.92855677e+06,  1.99848768e+07,  8.71268477e+06,\n",
       "        6.54999677e+06,  1.12030528e+07,  2.09354877e+06,  1.46109248e+07,\n",
       "        7.99178877e+06,  1.17273408e+07,  4.97713277e+06,  6.22231677e+06,\n",
       "        1.21205568e+07,  9.63018877e+06,  1.77566528e+07,  1.56595008e+07,\n",
       "        8.51607677e+06,  1.67736128e+07,  6.81214077e+06,  8.64714877e+06,\n",
       "        7.92625277e+06,  2.34582848e+07,  7.46750077e+06,  1.33002048e+07,\n",
       "        1.55939648e+07,  9.95786877e+06,  1.50041408e+07,  1.63803968e+07,\n",
       "        1.52662848e+07,  9.63018877e+06,  2.37859648e+07,  1.71668288e+07,\n",
       "        2.16888128e+07,  5.37034877e+06,  7.86071677e+06,  8.84375677e+06,\n",
       "        4.25623677e+06,  5.82910077e+06,  9.89233277e+06,  3.84660288e+07,\n",
       "        3.18468928e+07,  2.89633088e+07,  8.84375677e+06,  2.85700928e+07,\n",
       "        1.33002048e+07,  4.38730877e+06,  1.76586877e+06,  4.25623677e+06,\n",
       "        1.19894848e+07,  8.58161277e+06,  1.43818877e+06,  1.63479677e+06,\n",
       "        1.36934208e+07,  4.97713277e+06,  2.16232768e+07,  9.89233277e+06,\n",
       "        1.33657408e+07,  1.97227328e+07,  3.99409277e+06,  2.58540769e+05,\n",
       "        1.78221888e+07,  1.76911168e+07,  1.99848768e+07,  9.23697277e+06,\n",
       "        1.27103808e+07,  9.56465277e+06,  8.25393277e+06,  4.38730877e+06,\n",
       "        1.12030528e+07,  2.10334528e+07,  1.12030528e+07,  3.27319677e+06,\n",
       "        1.40211008e+07,  1.97227328e+07,  1.49386048e+07,  8.90929277e+06,\n",
       "        8.90929277e+06,  1.19894848e+07,  1.83464768e+07,  2.10334528e+07,\n",
       "        1.17273408e+07,  3.66641277e+06,  5.56695677e+06,  1.27103808e+07,\n",
       "        4.19070077e+06,  1.34312768e+07,  4.58391677e+06,  6.22231677e+06,\n",
       "        1.11375168e+07,  1.74289728e+07,  2.44413248e+07,  1.02200128e+07,\n",
       "        6.22231677e+06,  2.39170368e+07,  6.22231677e+06,  1.90673728e+07,\n",
       "        2.42122877e+06,  1.25137728e+07,  1.78221888e+07,  1.70033277e+06,\n",
       "        1.31035968e+07,  6.35338877e+06,  3.99409277e+06,  1.62493248e+07,\n",
       "        6.61553277e+06,  2.54899008e+07,  9.36804477e+06,  9.89233277e+06,\n",
       "        3.99409277e+06,  6.22231677e+06,  9.30250877e+06,  1.02200128e+07,\n",
       "        7.53303677e+06,  1.06132288e+07,  1.81498688e+07,  1.99193408e+07,\n",
       "        1.31691328e+07,  1.33657408e+07,  8.97482877e+06,  3.27319677e+06,\n",
       "        2.47690048e+07,  1.30380608e+07,  1.13996608e+07,  4.86896448e+07,\n",
       "        9.69572477e+06,  2.01159488e+07,  1.17273408e+07,  3.57790528e+07,\n",
       "        9.89233277e+06,  1.00234048e+07,  4.58391677e+06,  9.89233277e+06,\n",
       "        4.45284477e+06,  1.21205568e+07,  5.69802877e+06,  8.25393277e+06,\n",
       "        1.06132288e+07,  2.29015677e+06,  1.11050877e+06,  2.87011648e+07,\n",
       "        1.70357568e+07,  4.84606077e+06,  2.35238208e+07,  1.19894848e+07,\n",
       "        1.44143168e+07,  5.69802877e+06,  1.06132288e+07,  3.99409277e+06,\n",
       "        8.18839677e+06,  2.35893568e+07,  1.37589568e+07,  7.92625277e+06,\n",
       "        1.17273408e+07,  2.37859648e+07,  1.89363008e+07,  7.40196477e+06,\n",
       "        5.82910077e+06,  1.99193408e+07,  2.42122877e+06,  1.59216448e+07,\n",
       "        2.23441728e+07,  2.44413248e+07,  8.97482877e+06,  6.54999677e+06,\n",
       "        3.27319677e+06,  6.61553277e+06,  1.76586877e+06,  7.72964477e+06,\n",
       "        1.03510848e+07,  1.14651968e+07,  1.51352128e+07,  9.63018877e+06,\n",
       "        5.76356477e+06,  1.49386048e+07,  1.55284288e+07,  7.33642877e+06,\n",
       "        7.00874877e+06,  1.41521728e+07,  1.93950528e+07,  2.48676477e+06,\n",
       "        1.12030528e+07,  2.79802688e+07,  1.21205568e+07,  2.64074048e+07,\n",
       "        7.72964477e+06,  1.40211008e+07,  2.68337277e+06,  2.23441728e+07,\n",
       "        8.90929277e+06,  1.17273408e+07,  9.49911677e+06,  2.89633088e+07,\n",
       "        1.95916608e+07,  9.82679677e+06,  7.53303677e+06,  4.91159677e+06,\n",
       "        5.10820477e+06,  1.06132288e+07,  7.00874877e+06,  1.31035968e+07,\n",
       "        1.67080768e+07,  3.07658877e+06,  8.05732477e+06,  1.33657408e+07,\n",
       "        1.87396928e+07,  1.38900288e+07,  1.36278848e+07,  6.74660477e+06])"
      ]
     },
     "execution_count": 54,
     "metadata": {},
     "output_type": "execute_result"
    }
   ],
   "source": [
    "y_pred_lr=pipe1.predict(X_test)\n",
    "y_pred_lr"
   ]
  },
  {
   "cell_type": "code",
   "execution_count": 55,
   "id": "1b6ab0db",
   "metadata": {},
   "outputs": [
    {
     "data": {
      "text/plain": [
       "array([7.22546121e+06, 8.04522310e+06, 9.08173667e+06, 1.03949006e+07,\n",
       "       8.04522310e+06, 1.43780863e+07, 6.09620000e+06, 6.70620333e+06,\n",
       "       6.68492524e+06, 5.71223333e+06, 1.01043500e+07, 3.40868000e+06,\n",
       "       3.29167440e+07, 6.63349381e+06, 7.34035603e+06, 5.48120000e+06,\n",
       "       1.03942286e+07, 1.30146100e+07, 1.01296771e+07, 7.42753382e+06,\n",
       "       1.27413500e+07, 7.87460000e+06, 9.28429667e+06, 2.31072738e+07,\n",
       "       8.34932143e+06, 2.51241974e+07, 1.62101333e+07, 8.77486286e+06,\n",
       "       9.64529841e+06, 5.83577524e+06, 8.68740000e+06, 2.41110000e+06,\n",
       "       2.86161967e+07, 1.68333507e+07, 2.54137464e+07, 2.94939167e+07,\n",
       "       1.39745333e+07, 3.40868000e+06, 9.64529841e+06, 2.55925048e+07,\n",
       "       2.35459655e+07, 5.67623357e+06, 2.91593048e+07, 5.60080000e+06,\n",
       "       1.15603483e+07, 2.77821333e+07, 2.84800000e+06, 1.43780863e+07,\n",
       "       3.08576119e+07, 2.17504200e+07, 1.60156667e+07, 4.73113590e+06,\n",
       "       1.19953067e+07, 2.23174167e+07, 7.42380333e+06, 7.86304381e+06,\n",
       "       5.18674119e+06, 8.85890000e+06, 3.03826100e+08, 8.11592857e+06,\n",
       "       3.11859333e+07, 7.92327524e+06, 5.96151401e+06, 1.60001167e+07,\n",
       "       8.75232000e+06, 1.36073400e+07, 2.55925048e+07, 4.46002673e+06,\n",
       "       6.82356258e+06, 3.58825132e+06, 2.88478536e+07, 3.59530466e+06,\n",
       "       1.17658651e+07, 1.56781333e+06, 1.18345595e+07, 2.67860419e+07,\n",
       "       8.11128889e+06, 5.76972300e+06, 1.84508924e+07, 1.52290640e+07,\n",
       "       6.75420000e+06, 8.05998167e+06, 1.11523743e+07, 1.08929143e+07,\n",
       "       2.54137464e+07, 8.48570333e+06, 7.22546121e+06, 5.86194355e+06,\n",
       "       5.96151401e+06, 3.62657333e+06, 2.49431837e+07, 7.19124585e+06,\n",
       "       2.29546728e+07, 9.21370386e+06, 7.71756246e+06, 1.18345595e+07,\n",
       "       6.10045222e+06, 1.52290640e+07, 6.36136389e+06, 8.04522310e+06,\n",
       "       1.03942286e+07, 3.02440657e+07, 2.06151667e+07, 1.22138003e+07,\n",
       "       5.09070000e+06, 1.77562667e+07, 7.58165635e+06, 1.23159764e+07,\n",
       "       2.07241090e+07, 3.03767024e+07, 9.39484333e+06, 8.02955000e+06,\n",
       "       1.67974000e+07, 1.17666800e+07, 1.29675635e+07, 2.24992571e+07,\n",
       "       1.26835238e+07, 6.84876048e+06, 2.22967030e+07, 2.87420500e+07,\n",
       "       2.42428538e+07, 4.81562000e+06, 8.26495000e+06, 4.03954952e+06,\n",
       "       5.39218304e+06, 3.58825132e+06, 1.41012772e+07, 2.89332667e+07,\n",
       "       1.48166544e+07, 2.55968500e+07, 4.03954952e+06, 9.74925000e+06,\n",
       "       6.70407000e+06, 5.22930000e+06, 3.11871762e+06, 5.39218304e+06,\n",
       "       1.43093011e+07, 1.57999143e+07, 3.08123333e+06, 7.26021952e+06,\n",
       "       8.89780000e+06, 6.36136389e+06, 2.55925048e+07, 1.41012772e+07,\n",
       "       9.28429667e+06, 3.80193190e+07, 6.78425903e+06, 3.57973357e+06,\n",
       "       2.17504200e+07, 2.22179205e+07, 3.06506167e+07, 1.53146548e+07,\n",
       "       1.62101333e+07, 8.47478667e+06, 6.80850167e+06, 5.76972300e+06,\n",
       "       5.71950000e+06, 2.96347762e+07, 9.21370386e+06, 5.34990190e+06,\n",
       "       2.53766802e+07, 3.80193190e+07, 1.32380314e+07, 1.10260152e+07,\n",
       "       7.62161007e+06, 1.14316000e+07, 1.24824024e+07, 2.96347762e+07,\n",
       "       1.52290640e+07, 6.02184063e+06, 8.24616873e+06, 7.26964000e+06,\n",
       "       2.87790000e+06, 8.53963286e+06, 7.02661333e+06, 7.76965932e+06,\n",
       "       7.73085889e+06, 1.75991424e+07, 3.20532119e+07, 6.80636000e+06,\n",
       "       7.76965932e+06, 2.62235101e+07, 7.76965932e+06, 2.31557600e+07,\n",
       "       7.01995714e+06, 7.77270000e+06, 2.17504200e+07, 8.96214079e+06,\n",
       "       1.12669619e+07, 7.27950574e+06, 6.78425903e+06, 1.30376405e+07,\n",
       "       8.48304762e+06, 4.47831000e+06, 9.67505667e+06, 1.41012772e+07,\n",
       "       6.82356258e+06, 7.76965932e+06, 1.00683759e+07, 8.10818942e+06,\n",
       "       6.96181204e+06, 7.67043960e+06, 6.70832000e+06, 2.79292103e+07,\n",
       "       5.53095152e+06, 9.28429667e+06, 8.39830000e+06, 5.92396848e+06,\n",
       "       2.93746000e+07, 1.38497100e+07, 1.52927486e+07, 8.05420000e+06,\n",
       "       1.60001167e+07, 2.45146000e+07, 2.23174167e+07, 8.76185000e+06,\n",
       "       1.41012772e+07, 9.37443548e+06, 6.90677337e+06, 1.41012772e+07,\n",
       "       3.23730000e+06, 1.03942286e+07, 5.58946667e+06, 6.98340000e+06,\n",
       "       1.43780863e+07, 6.73695651e+06, 6.66645518e+06, 8.17495000e+06,\n",
       "       9.80920000e+06, 5.80461857e+06, 1.50174000e+07, 7.48424000e+06,\n",
       "       2.07778960e+07, 7.75242183e+06, 9.29080000e+06, 7.30418381e+06,\n",
       "       1.52540211e+07, 2.55772898e+07, 1.08929143e+07, 7.07051000e+06,\n",
       "       8.61558905e+06, 2.22967030e+07, 1.69712667e+07, 8.54042048e+06,\n",
       "       3.58825132e+06, 2.79292103e+07, 7.01995714e+06, 1.35055400e+07,\n",
       "       2.35459655e+07, 2.58514000e+07, 8.39830000e+06, 4.52036333e+06,\n",
       "       5.34990190e+06, 8.48304762e+06, 7.42753382e+06, 1.03949006e+07,\n",
       "       1.24500633e+07, 6.28744000e+06, 2.47515452e+07, 6.84876048e+06,\n",
       "       5.84017773e+06, 9.48117333e+06, 5.29480000e+06, 5.51033857e+06,\n",
       "       5.06975222e+06, 1.04433463e+07, 2.41989614e+07, 6.53612127e+06,\n",
       "       2.16283139e+07, 2.34983786e+07, 1.03942286e+07, 6.81320000e+06,\n",
       "       1.03949006e+07, 4.78402000e+06, 5.70087857e+06, 2.35459655e+07,\n",
       "       7.62161007e+06, 1.27888267e+07, 5.24679095e+06, 2.55968500e+07,\n",
       "       3.11859333e+07, 5.14825905e+06, 6.96181204e+06, 4.72713000e+06,\n",
       "       7.06764725e+06, 7.59854638e+06, 5.06975222e+06, 2.63184655e+07,\n",
       "       1.41961510e+07, 2.00374405e+06, 2.32120650e+07, 9.17791667e+06,\n",
       "       1.95652167e+07, 1.38841845e+07, 8.39072000e+06, 4.84846667e+06])"
      ]
     },
     "execution_count": 55,
     "metadata": {},
     "output_type": "execute_result"
    }
   ],
   "source": [
    "y_pred_rfr=pipe2.predict(X_test)\n",
    "y_pred_rfr"
   ]
  },
  {
   "cell_type": "code",
   "execution_count": 56,
   "id": "7406474f",
   "metadata": {},
   "outputs": [
    {
     "name": "stdout",
     "output_type": "stream",
     "text": [
      "Linear regression: 0.5563782310704741\n",
      "RandomForest regression 0.8893962519477803\n"
     ]
    }
   ],
   "source": [
    "print(\"Linear regression:\",r2_score(y_test,y_pred_lr))\n",
    "print(\"RandomForest regression\",r2_score(y_test,y_pred_rfr))"
   ]
  },
  {
   "cell_type": "code",
   "execution_count": 57,
   "id": "e0bed820",
   "metadata": {},
   "outputs": [
    {
     "data": {
      "text/plain": [
       "'scores=[]\\nfor i in range(10000):\\n    X_train,X_test,y_train,y_test=train_test_split(X,y,test_size=0.25,random_state=i)\\n    lr=LinearRegression()\\n    pipe=make_pipeline(column_trans,scaler,lr)\\n    pipe.fit(X_train,y_train)\\n    y_pred=pipe.predict(X_test)\\n    scores.append(r2_score(y_test,y_pred))'"
      ]
     },
     "execution_count": 57,
     "metadata": {},
     "output_type": "execute_result"
    }
   ],
   "source": [
    "'''scores=[]\n",
    "for i in range(10000):\n",
    "    X_train,X_test,y_train,y_test=train_test_split(X,y,test_size=0.25,random_state=i)\n",
    "    lr=LinearRegression()\n",
    "    pipe=make_pipeline(column_trans,scaler,lr)\n",
    "    pipe.fit(X_train,y_train)\n",
    "    y_pred=pipe.predict(X_test)\n",
    "    scores.append(r2_score(y_test,y_pred))'''"
   ]
  },
  {
   "cell_type": "code",
   "execution_count": 58,
   "id": "ef72e2a9",
   "metadata": {},
   "outputs": [],
   "source": [
    "#np.argmax(scores)"
   ]
  },
  {
   "cell_type": "code",
   "execution_count": 59,
   "id": "e23b1b49",
   "metadata": {},
   "outputs": [],
   "source": [
    "#scores[np.argmax(scores)]"
   ]
  },
  {
   "cell_type": "code",
   "execution_count": 60,
   "id": "0458988e",
   "metadata": {},
   "outputs": [],
   "source": [
    "import pickle\n",
    "\n"
   ]
  },
  {
   "cell_type": "code",
   "execution_count": 61,
   "id": "732465fa",
   "metadata": {},
   "outputs": [],
   "source": [
    "pickle.dump (pipe2,open('RandomForestRegression.pkl','wb'))"
   ]
  },
  {
   "cell_type": "code",
   "execution_count": 62,
   "id": "d647a4fd",
   "metadata": {},
   "outputs": [
    {
     "data": {
      "text/plain": [
       "array([8705853.33333333])"
      ]
     },
     "execution_count": 62,
     "metadata": {},
     "output_type": "execute_result"
    }
   ],
   "source": [
    "pipe2.predict(pd.DataFrame([['Kowdiar',1850,4,4]],columns=['location','total_sqft','bhk','bath']))"
   ]
  },
  {
   "cell_type": "code",
   "execution_count": null,
   "id": "d0ac401d",
   "metadata": {},
   "outputs": [],
   "source": []
  },
  {
   "cell_type": "code",
   "execution_count": null,
   "id": "c4e37d57",
   "metadata": {},
   "outputs": [],
   "source": []
  }
 ],
 "metadata": {
  "kernelspec": {
   "display_name": "Python 3 (ipykernel)",
   "language": "python",
   "name": "python3"
  },
  "language_info": {
   "codemirror_mode": {
    "name": "ipython",
    "version": 3
   },
   "file_extension": ".py",
   "mimetype": "text/x-python",
   "name": "python",
   "nbconvert_exporter": "python",
   "pygments_lexer": "ipython3",
   "version": "3.9.13"
  }
 },
 "nbformat": 4,
 "nbformat_minor": 5
}
